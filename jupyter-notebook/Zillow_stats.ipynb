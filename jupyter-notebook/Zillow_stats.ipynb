{
 "cells": [
  {
   "cell_type": "markdown",
   "metadata": {},
   "source": [
    "Housing market\n",
    "==============\n",
    "\n",
    "Zillow is a website providing information about houses for sale. It also collects a lot of data on the real estate market. These data are available here <http://www.zillow.com/research/data/>. \n",
    "\n",
    "Our goal is to investigate at the zipcode level the difference between the median listed price (price that people ask for their house) and the median sale price (price for which the house ends up being sold) from Jan 2010 to May 2016. \n",
    "\n",
    "We would like to:\n",
    "- Investigate the data and come up with a strategy on how to clean the messy csv. Inspire yourself from the tidyr script we just looked at. \n",
    "- Create the pseudocode of the steps you need to do to be able to compute the difference listed price - sale price\n",
    "- Implement your strategy on both csv. Might be slightly different steps.\n",
    "- join and compute the difference listed price - sale price\n",
    "- plot the time-series for the average median listed price for the county of Santa Barbara\n",
    "- how does it compare to the national average?\n",
    "- add the time-series for the average sale price for the county of Santa Barbara "
   ]
  },
  {
   "cell_type": "code",
   "execution_count": 9,
   "metadata": {
    "collapsed": true
   },
   "outputs": [],
   "source": [
    "import pandas as pd\n",
    "import os"
   ]
  },
  {
   "cell_type": "code",
   "execution_count": 10,
   "metadata": {
    "collapsed": true
   },
   "outputs": [],
   "source": [
    "# CONSTANTS\n",
    "## INPUTS\n",
    "my_path = \"/home/shares/jupyterhub/data/zillow/zip\"\n",
    "price_listing_file = \"Zip_MedianListingPrice_AllHomes.csv\"\n",
    "price_sold_file = \"Zip_MedianSoldPrice_AllHomes.csv\""
   ]
  },
  {
   "cell_type": "markdown",
   "metadata": {},
   "source": [
    "## Listing Data"
   ]
  },
  {
   "cell_type": "code",
   "execution_count": 18,
   "metadata": {
    "collapsed": false,
    "scrolled": true
   },
   "outputs": [
    {
     "data": {
      "text/html": [
       "<div>\n",
       "<table border=\"1\" class=\"dataframe\">\n",
       "  <thead>\n",
       "    <tr style=\"text-align: right;\">\n",
       "      <th></th>\n",
       "      <th>RegionName</th>\n",
       "      <th>City</th>\n",
       "      <th>State</th>\n",
       "      <th>Metro</th>\n",
       "      <th>CountyName</th>\n",
       "      <th>SizeRank</th>\n",
       "      <th>2010-01</th>\n",
       "      <th>2010-02</th>\n",
       "      <th>2010-03</th>\n",
       "      <th>2010-04</th>\n",
       "      <th>...</th>\n",
       "      <th>2015-08</th>\n",
       "      <th>2015-09</th>\n",
       "      <th>2015-10</th>\n",
       "      <th>2015-11</th>\n",
       "      <th>2015-12</th>\n",
       "      <th>2016-01</th>\n",
       "      <th>2016-02</th>\n",
       "      <th>2016-03</th>\n",
       "      <th>2016-04</th>\n",
       "      <th>2016-05</th>\n",
       "    </tr>\n",
       "  </thead>\n",
       "  <tbody>\n",
       "    <tr>\n",
       "      <th>0</th>\n",
       "      <td>10025</td>\n",
       "      <td>New York</td>\n",
       "      <td>NY</td>\n",
       "      <td>New York</td>\n",
       "      <td>New York</td>\n",
       "      <td>1</td>\n",
       "      <td>NaN</td>\n",
       "      <td>NaN</td>\n",
       "      <td>NaN</td>\n",
       "      <td>NaN</td>\n",
       "      <td>...</td>\n",
       "      <td>1197444.0</td>\n",
       "      <td>1200000.0</td>\n",
       "      <td>1200000.0</td>\n",
       "      <td>1237000.0</td>\n",
       "      <td>1285500.0</td>\n",
       "      <td>1335000.0</td>\n",
       "      <td>1390000.0</td>\n",
       "      <td>1340000.0</td>\n",
       "      <td>1387500.0</td>\n",
       "      <td>1297000.0</td>\n",
       "    </tr>\n",
       "    <tr>\n",
       "      <th>1</th>\n",
       "      <td>60657</td>\n",
       "      <td>Chicago</td>\n",
       "      <td>IL</td>\n",
       "      <td>Chicago</td>\n",
       "      <td>Cook</td>\n",
       "      <td>2</td>\n",
       "      <td>349000.0</td>\n",
       "      <td>349000.0</td>\n",
       "      <td>339000.0</td>\n",
       "      <td>340000.0</td>\n",
       "      <td>...</td>\n",
       "      <td>374900.0</td>\n",
       "      <td>379450.0</td>\n",
       "      <td>381250.0</td>\n",
       "      <td>384400.0</td>\n",
       "      <td>380700.0</td>\n",
       "      <td>384950.0</td>\n",
       "      <td>439950.0</td>\n",
       "      <td>439500.0</td>\n",
       "      <td>425000.0</td>\n",
       "      <td>425000.0</td>\n",
       "    </tr>\n",
       "    <tr>\n",
       "      <th>2</th>\n",
       "      <td>60614</td>\n",
       "      <td>Chicago</td>\n",
       "      <td>IL</td>\n",
       "      <td>Chicago</td>\n",
       "      <td>Cook</td>\n",
       "      <td>3</td>\n",
       "      <td>NaN</td>\n",
       "      <td>NaN</td>\n",
       "      <td>NaN</td>\n",
       "      <td>NaN</td>\n",
       "      <td>...</td>\n",
       "      <td>529000.0</td>\n",
       "      <td>575000.0</td>\n",
       "      <td>567000.0</td>\n",
       "      <td>579000.0</td>\n",
       "      <td>579000.0</td>\n",
       "      <td>587000.0</td>\n",
       "      <td>599900.0</td>\n",
       "      <td>559900.0</td>\n",
       "      <td>559000.0</td>\n",
       "      <td>569900.0</td>\n",
       "    </tr>\n",
       "    <tr>\n",
       "      <th>3</th>\n",
       "      <td>79936</td>\n",
       "      <td>El Paso</td>\n",
       "      <td>TX</td>\n",
       "      <td>El Paso</td>\n",
       "      <td>El Paso</td>\n",
       "      <td>4</td>\n",
       "      <td>132000.0</td>\n",
       "      <td>129900.0</td>\n",
       "      <td>129900.0</td>\n",
       "      <td>129900.0</td>\n",
       "      <td>...</td>\n",
       "      <td>130500.0</td>\n",
       "      <td>131000.0</td>\n",
       "      <td>129900.0</td>\n",
       "      <td>129900.0</td>\n",
       "      <td>129000.0</td>\n",
       "      <td>129500.0</td>\n",
       "      <td>132010.0</td>\n",
       "      <td>129900.0</td>\n",
       "      <td>128750.0</td>\n",
       "      <td>133500.0</td>\n",
       "    </tr>\n",
       "    <tr>\n",
       "      <th>4</th>\n",
       "      <td>77084</td>\n",
       "      <td>Houston</td>\n",
       "      <td>TX</td>\n",
       "      <td>Houston</td>\n",
       "      <td>Harris</td>\n",
       "      <td>5</td>\n",
       "      <td>117500.0</td>\n",
       "      <td>117900.0</td>\n",
       "      <td>119900.0</td>\n",
       "      <td>120000.0</td>\n",
       "      <td>...</td>\n",
       "      <td>168500.0</td>\n",
       "      <td>170000.0</td>\n",
       "      <td>175000.0</td>\n",
       "      <td>175000.0</td>\n",
       "      <td>179975.0</td>\n",
       "      <td>175000.0</td>\n",
       "      <td>178000.0</td>\n",
       "      <td>179995.0</td>\n",
       "      <td>186090.0</td>\n",
       "      <td>189000.0</td>\n",
       "    </tr>\n",
       "  </tbody>\n",
       "</table>\n",
       "<p>5 rows × 83 columns</p>\n",
       "</div>"
      ],
      "text/plain": [
       "   RegionName      City State     Metro CountyName  SizeRank   2010-01  \\\n",
       "0       10025  New York    NY  New York   New York         1       NaN   \n",
       "1       60657   Chicago    IL   Chicago       Cook         2  349000.0   \n",
       "2       60614   Chicago    IL   Chicago       Cook         3       NaN   \n",
       "3       79936   El Paso    TX   El Paso    El Paso         4  132000.0   \n",
       "4       77084   Houston    TX   Houston     Harris         5  117500.0   \n",
       "\n",
       "    2010-02   2010-03   2010-04    ...        2015-08    2015-09    2015-10  \\\n",
       "0       NaN       NaN       NaN    ...      1197444.0  1200000.0  1200000.0   \n",
       "1  349000.0  339000.0  340000.0    ...       374900.0   379450.0   381250.0   \n",
       "2       NaN       NaN       NaN    ...       529000.0   575000.0   567000.0   \n",
       "3  129900.0  129900.0  129900.0    ...       130500.0   131000.0   129900.0   \n",
       "4  117900.0  119900.0  120000.0    ...       168500.0   170000.0   175000.0   \n",
       "\n",
       "     2015-11    2015-12    2016-01    2016-02    2016-03    2016-04    2016-05  \n",
       "0  1237000.0  1285500.0  1335000.0  1390000.0  1340000.0  1387500.0  1297000.0  \n",
       "1   384400.0   380700.0   384950.0   439950.0   439500.0   425000.0   425000.0  \n",
       "2   579000.0   579000.0   587000.0   599900.0   559900.0   559000.0   569900.0  \n",
       "3   129900.0   129000.0   129500.0   132010.0   129900.0   128750.0   133500.0  \n",
       "4   175000.0   179975.0   175000.0   178000.0   179995.0   186090.0   189000.0  \n",
       "\n",
       "[5 rows x 83 columns]"
      ]
     },
     "execution_count": 18,
     "metadata": {},
     "output_type": "execute_result"
    }
   ],
   "source": [
    "# Read input files\n",
    "listing_data = pd.read_csv(os.path.join(my_path,\"Zip_MedianListingPrice_AllHomes.csv\"))\n",
    "listing_data.head()"
   ]
  },
  {
   "cell_type": "code",
   "execution_count": 12,
   "metadata": {
    "collapsed": false
   },
   "outputs": [
    {
     "data": {
      "text/html": [
       "<div>\n",
       "<table border=\"1\" class=\"dataframe\">\n",
       "  <thead>\n",
       "    <tr style=\"text-align: right;\">\n",
       "      <th></th>\n",
       "      <th>RegionName</th>\n",
       "      <th>City</th>\n",
       "      <th>State</th>\n",
       "      <th>Metro</th>\n",
       "      <th>CountyName</th>\n",
       "      <th>SizeRank</th>\n",
       "      <th>2010-01</th>\n",
       "      <th>2010-02</th>\n",
       "      <th>2010-03</th>\n",
       "      <th>2010-04</th>\n",
       "      <th>...</th>\n",
       "      <th>2015-08</th>\n",
       "      <th>2015-09</th>\n",
       "      <th>2015-10</th>\n",
       "      <th>2015-11</th>\n",
       "      <th>2015-12</th>\n",
       "      <th>2016-01</th>\n",
       "      <th>2016-02</th>\n",
       "      <th>2016-03</th>\n",
       "      <th>2016-04</th>\n",
       "      <th>2016-05</th>\n",
       "    </tr>\n",
       "  </thead>\n",
       "  <tbody>\n",
       "    <tr>\n",
       "      <th>3700</th>\n",
       "      <td>93105</td>\n",
       "      <td>Santa Barbara</td>\n",
       "      <td>CA</td>\n",
       "      <td>Santa Maria-Santa Barbara, CA</td>\n",
       "      <td>Santa Barbara</td>\n",
       "      <td>3700</td>\n",
       "      <td>NaN</td>\n",
       "      <td>NaN</td>\n",
       "      <td>NaN</td>\n",
       "      <td>NaN</td>\n",
       "      <td>...</td>\n",
       "      <td>1099000.0</td>\n",
       "      <td>1099000.0</td>\n",
       "      <td>1100000.0</td>\n",
       "      <td>1150000.0</td>\n",
       "      <td>1150000.0</td>\n",
       "      <td>1095000.0</td>\n",
       "      <td>1132500.0</td>\n",
       "      <td>1125000.0</td>\n",
       "      <td>1159000.0</td>\n",
       "      <td>1195000.0</td>\n",
       "    </tr>\n",
       "    <tr>\n",
       "      <th>5795</th>\n",
       "      <td>93103</td>\n",
       "      <td>Santa Barbara</td>\n",
       "      <td>CA</td>\n",
       "      <td>Santa Maria-Santa Barbara, CA</td>\n",
       "      <td>Santa Barbara</td>\n",
       "      <td>5795</td>\n",
       "      <td>NaN</td>\n",
       "      <td>NaN</td>\n",
       "      <td>NaN</td>\n",
       "      <td>NaN</td>\n",
       "      <td>...</td>\n",
       "      <td>1445000.0</td>\n",
       "      <td>1450000.0</td>\n",
       "      <td>1450000.0</td>\n",
       "      <td>1362000.0</td>\n",
       "      <td>1440000.0</td>\n",
       "      <td>1585000.0</td>\n",
       "      <td>1395000.0</td>\n",
       "      <td>1592000.0</td>\n",
       "      <td>1539000.0</td>\n",
       "      <td>1749000.0</td>\n",
       "    </tr>\n",
       "    <tr>\n",
       "      <th>7514</th>\n",
       "      <td>93109</td>\n",
       "      <td>Santa Barbara</td>\n",
       "      <td>CA</td>\n",
       "      <td>Santa Maria-Santa Barbara, CA</td>\n",
       "      <td>Santa Barbara</td>\n",
       "      <td>7514</td>\n",
       "      <td>NaN</td>\n",
       "      <td>NaN</td>\n",
       "      <td>NaN</td>\n",
       "      <td>NaN</td>\n",
       "      <td>...</td>\n",
       "      <td>1325000.0</td>\n",
       "      <td>1360000.0</td>\n",
       "      <td>1345000.0</td>\n",
       "      <td>1395000.0</td>\n",
       "      <td>1445000.0</td>\n",
       "      <td>1517500.0</td>\n",
       "      <td>1449000.0</td>\n",
       "      <td>1424000.0</td>\n",
       "      <td>1382000.0</td>\n",
       "      <td>1350000.0</td>\n",
       "    </tr>\n",
       "  </tbody>\n",
       "</table>\n",
       "<p>3 rows × 83 columns</p>\n",
       "</div>"
      ],
      "text/plain": [
       "      RegionName           City State                          Metro  \\\n",
       "3700       93105  Santa Barbara    CA  Santa Maria-Santa Barbara, CA   \n",
       "5795       93103  Santa Barbara    CA  Santa Maria-Santa Barbara, CA   \n",
       "7514       93109  Santa Barbara    CA  Santa Maria-Santa Barbara, CA   \n",
       "\n",
       "         CountyName  SizeRank  2010-01  2010-02  2010-03  2010-04    ...      \\\n",
       "3700  Santa Barbara      3700      NaN      NaN      NaN      NaN    ...       \n",
       "5795  Santa Barbara      5795      NaN      NaN      NaN      NaN    ...       \n",
       "7514  Santa Barbara      7514      NaN      NaN      NaN      NaN    ...       \n",
       "\n",
       "        2015-08    2015-09    2015-10    2015-11    2015-12    2016-01  \\\n",
       "3700  1099000.0  1099000.0  1100000.0  1150000.0  1150000.0  1095000.0   \n",
       "5795  1445000.0  1450000.0  1450000.0  1362000.0  1440000.0  1585000.0   \n",
       "7514  1325000.0  1360000.0  1345000.0  1395000.0  1445000.0  1517500.0   \n",
       "\n",
       "        2016-02    2016-03    2016-04    2016-05  \n",
       "3700  1132500.0  1125000.0  1159000.0  1195000.0  \n",
       "5795  1395000.0  1592000.0  1539000.0  1749000.0  \n",
       "7514  1449000.0  1424000.0  1382000.0  1350000.0  \n",
       "\n",
       "[3 rows x 83 columns]"
      ]
     },
     "execution_count": 12,
     "metadata": {},
     "output_type": "execute_result"
    }
   ],
   "source": [
    "# subset Santa Barbara\n",
    "listing_sb = listing_data[listing_data['City']=='Santa Barbara']\n",
    "listing_sb.head()"
   ]
  },
  {
   "cell_type": "code",
   "execution_count": 50,
   "metadata": {
    "collapsed": false
   },
   "outputs": [
    {
     "data": {
      "text/html": [
       "<div>\n",
       "<table border=\"1\" class=\"dataframe\">\n",
       "  <thead>\n",
       "    <tr style=\"text-align: right;\">\n",
       "      <th></th>\n",
       "      <th>RegionName</th>\n",
       "      <th>City</th>\n",
       "      <th>State</th>\n",
       "      <th>Metro</th>\n",
       "      <th>CountyName</th>\n",
       "      <th>SizeRank</th>\n",
       "      <th>date</th>\n",
       "      <th>listing_price</th>\n",
       "    </tr>\n",
       "  </thead>\n",
       "  <tbody>\n",
       "    <tr>\n",
       "      <th>0</th>\n",
       "      <td>93105</td>\n",
       "      <td>Santa Barbara</td>\n",
       "      <td>CA</td>\n",
       "      <td>Santa Maria-Santa Barbara, CA</td>\n",
       "      <td>Santa Barbara</td>\n",
       "      <td>3700</td>\n",
       "      <td>2010-01</td>\n",
       "      <td>NaN</td>\n",
       "    </tr>\n",
       "    <tr>\n",
       "      <th>1</th>\n",
       "      <td>93103</td>\n",
       "      <td>Santa Barbara</td>\n",
       "      <td>CA</td>\n",
       "      <td>Santa Maria-Santa Barbara, CA</td>\n",
       "      <td>Santa Barbara</td>\n",
       "      <td>5795</td>\n",
       "      <td>2010-01</td>\n",
       "      <td>NaN</td>\n",
       "    </tr>\n",
       "    <tr>\n",
       "      <th>2</th>\n",
       "      <td>93109</td>\n",
       "      <td>Santa Barbara</td>\n",
       "      <td>CA</td>\n",
       "      <td>Santa Maria-Santa Barbara, CA</td>\n",
       "      <td>Santa Barbara</td>\n",
       "      <td>7514</td>\n",
       "      <td>2010-01</td>\n",
       "      <td>NaN</td>\n",
       "    </tr>\n",
       "    <tr>\n",
       "      <th>3</th>\n",
       "      <td>93105</td>\n",
       "      <td>Santa Barbara</td>\n",
       "      <td>CA</td>\n",
       "      <td>Santa Maria-Santa Barbara, CA</td>\n",
       "      <td>Santa Barbara</td>\n",
       "      <td>3700</td>\n",
       "      <td>2010-02</td>\n",
       "      <td>NaN</td>\n",
       "    </tr>\n",
       "    <tr>\n",
       "      <th>4</th>\n",
       "      <td>93103</td>\n",
       "      <td>Santa Barbara</td>\n",
       "      <td>CA</td>\n",
       "      <td>Santa Maria-Santa Barbara, CA</td>\n",
       "      <td>Santa Barbara</td>\n",
       "      <td>5795</td>\n",
       "      <td>2010-02</td>\n",
       "      <td>NaN</td>\n",
       "    </tr>\n",
       "  </tbody>\n",
       "</table>\n",
       "</div>"
      ],
      "text/plain": [
       "   RegionName           City State                          Metro  \\\n",
       "0       93105  Santa Barbara    CA  Santa Maria-Santa Barbara, CA   \n",
       "1       93103  Santa Barbara    CA  Santa Maria-Santa Barbara, CA   \n",
       "2       93109  Santa Barbara    CA  Santa Maria-Santa Barbara, CA   \n",
       "3       93105  Santa Barbara    CA  Santa Maria-Santa Barbara, CA   \n",
       "4       93103  Santa Barbara    CA  Santa Maria-Santa Barbara, CA   \n",
       "\n",
       "      CountyName  SizeRank     date  listing_price  \n",
       "0  Santa Barbara      3700  2010-01            NaN  \n",
       "1  Santa Barbara      5795  2010-01            NaN  \n",
       "2  Santa Barbara      7514  2010-01            NaN  \n",
       "3  Santa Barbara      3700  2010-02            NaN  \n",
       "4  Santa Barbara      5795  2010-02            NaN  "
      ]
     },
     "execution_count": 50,
     "metadata": {},
     "output_type": "execute_result"
    }
   ],
   "source": [
    "# Convert to wide format\n",
    "listing_sb_zip = pd.melt(listing_sb,id_vars=['RegionName','City','State', 'Metro','CountyName','SizeRank'], var_name=\"date\", value_name=\"listing_price\")\n",
    "listing_sb_zip.head()"
   ]
  },
  {
   "cell_type": "code",
   "execution_count": 51,
   "metadata": {
    "collapsed": false
   },
   "outputs": [
    {
     "data": {
      "text/html": [
       "<div>\n",
       "<table border=\"1\" class=\"dataframe\">\n",
       "  <thead>\n",
       "    <tr style=\"text-align: right;\">\n",
       "      <th></th>\n",
       "      <th>RegionName</th>\n",
       "      <th>City</th>\n",
       "      <th>State</th>\n",
       "      <th>Metro</th>\n",
       "      <th>CountyName</th>\n",
       "      <th>SizeRank</th>\n",
       "      <th>listing_price</th>\n",
       "    </tr>\n",
       "    <tr>\n",
       "      <th>date</th>\n",
       "      <th></th>\n",
       "      <th></th>\n",
       "      <th></th>\n",
       "      <th></th>\n",
       "      <th></th>\n",
       "      <th></th>\n",
       "      <th></th>\n",
       "    </tr>\n",
       "  </thead>\n",
       "  <tbody>\n",
       "    <tr>\n",
       "      <th>2010-01-01</th>\n",
       "      <td>93105</td>\n",
       "      <td>Santa Barbara</td>\n",
       "      <td>CA</td>\n",
       "      <td>Santa Maria-Santa Barbara, CA</td>\n",
       "      <td>Santa Barbara</td>\n",
       "      <td>3700</td>\n",
       "      <td>NaN</td>\n",
       "    </tr>\n",
       "    <tr>\n",
       "      <th>2010-01-01</th>\n",
       "      <td>93103</td>\n",
       "      <td>Santa Barbara</td>\n",
       "      <td>CA</td>\n",
       "      <td>Santa Maria-Santa Barbara, CA</td>\n",
       "      <td>Santa Barbara</td>\n",
       "      <td>5795</td>\n",
       "      <td>NaN</td>\n",
       "    </tr>\n",
       "    <tr>\n",
       "      <th>2010-01-01</th>\n",
       "      <td>93109</td>\n",
       "      <td>Santa Barbara</td>\n",
       "      <td>CA</td>\n",
       "      <td>Santa Maria-Santa Barbara, CA</td>\n",
       "      <td>Santa Barbara</td>\n",
       "      <td>7514</td>\n",
       "      <td>NaN</td>\n",
       "    </tr>\n",
       "    <tr>\n",
       "      <th>2010-02-01</th>\n",
       "      <td>93105</td>\n",
       "      <td>Santa Barbara</td>\n",
       "      <td>CA</td>\n",
       "      <td>Santa Maria-Santa Barbara, CA</td>\n",
       "      <td>Santa Barbara</td>\n",
       "      <td>3700</td>\n",
       "      <td>NaN</td>\n",
       "    </tr>\n",
       "    <tr>\n",
       "      <th>2010-02-01</th>\n",
       "      <td>93103</td>\n",
       "      <td>Santa Barbara</td>\n",
       "      <td>CA</td>\n",
       "      <td>Santa Maria-Santa Barbara, CA</td>\n",
       "      <td>Santa Barbara</td>\n",
       "      <td>5795</td>\n",
       "      <td>NaN</td>\n",
       "    </tr>\n",
       "  </tbody>\n",
       "</table>\n",
       "</div>"
      ],
      "text/plain": [
       "            RegionName           City State                          Metro  \\\n",
       "date                                                                         \n",
       "2010-01-01       93105  Santa Barbara    CA  Santa Maria-Santa Barbara, CA   \n",
       "2010-01-01       93103  Santa Barbara    CA  Santa Maria-Santa Barbara, CA   \n",
       "2010-01-01       93109  Santa Barbara    CA  Santa Maria-Santa Barbara, CA   \n",
       "2010-02-01       93105  Santa Barbara    CA  Santa Maria-Santa Barbara, CA   \n",
       "2010-02-01       93103  Santa Barbara    CA  Santa Maria-Santa Barbara, CA   \n",
       "\n",
       "               CountyName  SizeRank  listing_price  \n",
       "date                                                \n",
       "2010-01-01  Santa Barbara      3700            NaN  \n",
       "2010-01-01  Santa Barbara      5795            NaN  \n",
       "2010-01-01  Santa Barbara      7514            NaN  \n",
       "2010-02-01  Santa Barbara      3700            NaN  \n",
       "2010-02-01  Santa Barbara      5795            NaN  "
      ]
     },
     "execution_count": 51,
     "metadata": {},
     "output_type": "execute_result"
    }
   ],
   "source": [
    "# Set the date as index\n",
    "listing_sb_zip.index = pd.to_datetime(listing_sb_zip.pop('date'))\n",
    "listing_sb_zip.head()"
   ]
  },
  {
   "cell_type": "code",
   "execution_count": 54,
   "metadata": {
    "collapsed": false
   },
   "outputs": [
    {
     "data": {
      "text/html": [
       "<div>\n",
       "<table border=\"1\" class=\"dataframe\">\n",
       "  <thead>\n",
       "    <tr style=\"text-align: right;\">\n",
       "      <th></th>\n",
       "      <th>RegionName</th>\n",
       "      <th>SizeRank</th>\n",
       "      <th>listing_price</th>\n",
       "    </tr>\n",
       "    <tr>\n",
       "      <th>date</th>\n",
       "      <th></th>\n",
       "      <th></th>\n",
       "      <th></th>\n",
       "    </tr>\n",
       "  </thead>\n",
       "  <tbody>\n",
       "    <tr>\n",
       "      <th>2010-01-01</th>\n",
       "      <td>93105.666667</td>\n",
       "      <td>5669.666667</td>\n",
       "      <td>NaN</td>\n",
       "    </tr>\n",
       "    <tr>\n",
       "      <th>2010-02-01</th>\n",
       "      <td>93105.666667</td>\n",
       "      <td>5669.666667</td>\n",
       "      <td>NaN</td>\n",
       "    </tr>\n",
       "    <tr>\n",
       "      <th>2010-03-01</th>\n",
       "      <td>93105.666667</td>\n",
       "      <td>5669.666667</td>\n",
       "      <td>NaN</td>\n",
       "    </tr>\n",
       "    <tr>\n",
       "      <th>2010-04-01</th>\n",
       "      <td>93105.666667</td>\n",
       "      <td>5669.666667</td>\n",
       "      <td>NaN</td>\n",
       "    </tr>\n",
       "    <tr>\n",
       "      <th>2010-05-01</th>\n",
       "      <td>93105.666667</td>\n",
       "      <td>5669.666667</td>\n",
       "      <td>NaN</td>\n",
       "    </tr>\n",
       "  </tbody>\n",
       "</table>\n",
       "</div>"
      ],
      "text/plain": [
       "              RegionName     SizeRank  listing_price\n",
       "date                                                \n",
       "2010-01-01  93105.666667  5669.666667            NaN\n",
       "2010-02-01  93105.666667  5669.666667            NaN\n",
       "2010-03-01  93105.666667  5669.666667            NaN\n",
       "2010-04-01  93105.666667  5669.666667            NaN\n",
       "2010-05-01  93105.666667  5669.666667            NaN"
      ]
     },
     "execution_count": 54,
     "metadata": {},
     "output_type": "execute_result"
    }
   ],
   "source": [
    "# Compute the average for the city\n",
    "listing_sb_ts = listing_sb_zip.groupby(level='date').mean()\n",
    "listing_sb_ts.head()"
   ]
  },
  {
   "cell_type": "code",
   "execution_count": 55,
   "metadata": {
    "collapsed": false
   },
   "outputs": [
    {
     "data": {
      "text/html": [
       "<div>\n",
       "<table border=\"1\" class=\"dataframe\">\n",
       "  <thead>\n",
       "    <tr style=\"text-align: right;\">\n",
       "      <th></th>\n",
       "      <th>listing_price</th>\n",
       "    </tr>\n",
       "    <tr>\n",
       "      <th>date</th>\n",
       "      <th></th>\n",
       "    </tr>\n",
       "  </thead>\n",
       "  <tbody>\n",
       "    <tr>\n",
       "      <th>2010-01-01</th>\n",
       "      <td>NaN</td>\n",
       "    </tr>\n",
       "    <tr>\n",
       "      <th>2010-02-01</th>\n",
       "      <td>NaN</td>\n",
       "    </tr>\n",
       "    <tr>\n",
       "      <th>2010-03-01</th>\n",
       "      <td>NaN</td>\n",
       "    </tr>\n",
       "    <tr>\n",
       "      <th>2010-04-01</th>\n",
       "      <td>NaN</td>\n",
       "    </tr>\n",
       "    <tr>\n",
       "      <th>2010-05-01</th>\n",
       "      <td>NaN</td>\n",
       "    </tr>\n",
       "  </tbody>\n",
       "</table>\n",
       "</div>"
      ],
      "text/plain": [
       "            listing_price\n",
       "date                     \n",
       "2010-01-01            NaN\n",
       "2010-02-01            NaN\n",
       "2010-03-01            NaN\n",
       "2010-04-01            NaN\n",
       "2010-05-01            NaN"
      ]
     },
     "execution_count": 55,
     "metadata": {},
     "output_type": "execute_result"
    }
   ],
   "source": [
    "# some house cleaning\n",
    "listing_sb_ts.drop(listing_sb_ts.columns[[0, 1]], axis=1, inplace=True)\n",
    "listing_sb_ts.head()"
   ]
  },
  {
   "cell_type": "code",
   "execution_count": 56,
   "metadata": {
    "collapsed": false
   },
   "outputs": [
    {
     "data": {
      "text/plain": [
       "<matplotlib.axes._subplots.AxesSubplot at 0x7f326efb4d30>"
      ]
     },
     "execution_count": 56,
     "metadata": {},
     "output_type": "execute_result"
    },
    {
     "data": {
      "image/png": "[encoded data removed]",
      "text/plain": [
       "<matplotlib.figure.Figure at 0x7f326ed2ff28>"
      ]
     },
     "metadata": {},
     "output_type": "display_data"
    }
   ],
   "source": [
    "# plot the time-series\n",
    "listing_sb_ts.plot(kind='line')"
   ]
  },
  {
   "cell_type": "markdown",
   "metadata": {},
   "source": [
    "## Sale Data"
   ]
  },
  {
   "cell_type": "code",
   "execution_count": 74,
   "metadata": {
    "collapsed": false
   },
   "outputs": [
    {
     "data": {
      "text/html": [
       "<div>\n",
       "<table border=\"1\" class=\"dataframe\">\n",
       "  <thead>\n",
       "    <tr style=\"text-align: right;\">\n",
       "      <th></th>\n",
       "      <th>RegionID</th>\n",
       "      <th>RegionName</th>\n",
       "      <th>City</th>\n",
       "      <th>State</th>\n",
       "      <th>Metro</th>\n",
       "      <th>CountyName</th>\n",
       "      <th>SizeRank</th>\n",
       "      <th>1996-04</th>\n",
       "      <th>1996-05</th>\n",
       "      <th>1996-06</th>\n",
       "      <th>...</th>\n",
       "      <th>2015-08</th>\n",
       "      <th>2015-09</th>\n",
       "      <th>2015-10</th>\n",
       "      <th>2015-11</th>\n",
       "      <th>2015-12</th>\n",
       "      <th>2016-01</th>\n",
       "      <th>2016-02</th>\n",
       "      <th>2016-03</th>\n",
       "      <th>2016-04</th>\n",
       "      <th>2016-05</th>\n",
       "    </tr>\n",
       "  </thead>\n",
       "  <tbody>\n",
       "    <tr>\n",
       "      <th>0</th>\n",
       "      <td>61639</td>\n",
       "      <td>10025</td>\n",
       "      <td>New York</td>\n",
       "      <td>NY</td>\n",
       "      <td>New York</td>\n",
       "      <td>New York</td>\n",
       "      <td>1</td>\n",
       "      <td>175000.0000</td>\n",
       "      <td>NaN</td>\n",
       "      <td>NaN</td>\n",
       "      <td>...</td>\n",
       "      <td>1037000.0</td>\n",
       "      <td>975000.0</td>\n",
       "      <td>1016000.0</td>\n",
       "      <td>962750.0</td>\n",
       "      <td>1010000.0</td>\n",
       "      <td>1079500.0</td>\n",
       "      <td>940500.0</td>\n",
       "      <td>852750.0</td>\n",
       "      <td>824746.5</td>\n",
       "      <td>804172.55</td>\n",
       "    </tr>\n",
       "    <tr>\n",
       "      <th>1</th>\n",
       "      <td>84654</td>\n",
       "      <td>60657</td>\n",
       "      <td>Chicago</td>\n",
       "      <td>IL</td>\n",
       "      <td>Chicago</td>\n",
       "      <td>Cook</td>\n",
       "      <td>2</td>\n",
       "      <td>137911.7647</td>\n",
       "      <td>137900.0</td>\n",
       "      <td>133925.0</td>\n",
       "      <td>...</td>\n",
       "      <td>378500.0</td>\n",
       "      <td>381975.0</td>\n",
       "      <td>372325.0</td>\n",
       "      <td>363975.0</td>\n",
       "      <td>374725.0</td>\n",
       "      <td>340150.0</td>\n",
       "      <td>348350.0</td>\n",
       "      <td>395000.0</td>\n",
       "      <td>403600.0</td>\n",
       "      <td>376775.00</td>\n",
       "    </tr>\n",
       "    <tr>\n",
       "      <th>2</th>\n",
       "      <td>61637</td>\n",
       "      <td>10023</td>\n",
       "      <td>New York</td>\n",
       "      <td>NY</td>\n",
       "      <td>New York</td>\n",
       "      <td>New York</td>\n",
       "      <td>3</td>\n",
       "      <td>403823.5294</td>\n",
       "      <td>355025.0</td>\n",
       "      <td>NaN</td>\n",
       "      <td>...</td>\n",
       "      <td>925500.0</td>\n",
       "      <td>876750.0</td>\n",
       "      <td>871000.0</td>\n",
       "      <td>865000.0</td>\n",
       "      <td>859000.0</td>\n",
       "      <td>861800.0</td>\n",
       "      <td>850900.0</td>\n",
       "      <td>853700.0</td>\n",
       "      <td>887608.0</td>\n",
       "      <td>901530.60</td>\n",
       "    </tr>\n",
       "  </tbody>\n",
       "</table>\n",
       "<p>3 rows × 249 columns</p>\n",
       "</div>"
      ],
      "text/plain": [
       "   RegionID  RegionName      City State     Metro CountyName  SizeRank  \\\n",
       "0     61639       10025  New York    NY  New York   New York         1   \n",
       "1     84654       60657   Chicago    IL   Chicago       Cook         2   \n",
       "2     61637       10023  New York    NY  New York   New York         3   \n",
       "\n",
       "       1996-04   1996-05   1996-06    ...        2015-08   2015-09    2015-10  \\\n",
       "0  175000.0000       NaN       NaN    ...      1037000.0  975000.0  1016000.0   \n",
       "1  137911.7647  137900.0  133925.0    ...       378500.0  381975.0   372325.0   \n",
       "2  403823.5294  355025.0       NaN    ...       925500.0  876750.0   871000.0   \n",
       "\n",
       "    2015-11    2015-12    2016-01   2016-02   2016-03   2016-04    2016-05  \n",
       "0  962750.0  1010000.0  1079500.0  940500.0  852750.0  824746.5  804172.55  \n",
       "1  363975.0   374725.0   340150.0  348350.0  395000.0  403600.0  376775.00  \n",
       "2  865000.0   859000.0   861800.0  850900.0  853700.0  887608.0  901530.60  \n",
       "\n",
       "[3 rows x 249 columns]"
      ]
     },
     "execution_count": 74,
     "metadata": {},
     "output_type": "execute_result"
    }
   ],
   "source": [
    "# Load the sale data\n",
    "sold_data = pd.read_csv(os.path.join(my_path,\"Zip_MedianSoldPrice_AllHomes.csv\"))\n",
    "sold_data.head(3)"
   ]
  },
  {
   "cell_type": "code",
   "execution_count": 75,
   "metadata": {
    "collapsed": false
   },
   "outputs": [],
   "source": [
    "# subset Santa Barbara\n",
    "sold_sb = sold_data[sold_data['City']=='Santa Barbara']"
   ]
  },
  {
   "cell_type": "code",
   "execution_count": 76,
   "metadata": {
    "collapsed": false
   },
   "outputs": [
    {
     "data": {
      "text/html": [
       "<div>\n",
       "<table border=\"1\" class=\"dataframe\">\n",
       "  <thead>\n",
       "    <tr style=\"text-align: right;\">\n",
       "      <th></th>\n",
       "      <th>RegionID</th>\n",
       "      <th>RegionName</th>\n",
       "      <th>City</th>\n",
       "      <th>State</th>\n",
       "      <th>Metro</th>\n",
       "      <th>CountyName</th>\n",
       "      <th>SizeRank</th>\n",
       "      <th>listing_price</th>\n",
       "    </tr>\n",
       "    <tr>\n",
       "      <th>date</th>\n",
       "      <th></th>\n",
       "      <th></th>\n",
       "      <th></th>\n",
       "      <th></th>\n",
       "      <th></th>\n",
       "      <th></th>\n",
       "      <th></th>\n",
       "      <th></th>\n",
       "    </tr>\n",
       "  </thead>\n",
       "  <tbody>\n",
       "    <tr>\n",
       "      <th>1996-04-01</th>\n",
       "      <td>97124</td>\n",
       "      <td>93101</td>\n",
       "      <td>Santa Barbara</td>\n",
       "      <td>CA</td>\n",
       "      <td>Santa Maria-Santa Barbara</td>\n",
       "      <td>Santa Barbara</td>\n",
       "      <td>2738</td>\n",
       "      <td>NaN</td>\n",
       "    </tr>\n",
       "    <tr>\n",
       "      <th>1996-04-01</th>\n",
       "      <td>97127</td>\n",
       "      <td>93105</td>\n",
       "      <td>Santa Barbara</td>\n",
       "      <td>CA</td>\n",
       "      <td>Santa Maria-Santa Barbara</td>\n",
       "      <td>Santa Barbara</td>\n",
       "      <td>3566</td>\n",
       "      <td>276150.0</td>\n",
       "    </tr>\n",
       "    <tr>\n",
       "      <th>1996-04-01</th>\n",
       "      <td>97126</td>\n",
       "      <td>93103</td>\n",
       "      <td>Santa Barbara</td>\n",
       "      <td>CA</td>\n",
       "      <td>Santa Maria-Santa Barbara</td>\n",
       "      <td>Santa Barbara</td>\n",
       "      <td>5689</td>\n",
       "      <td>NaN</td>\n",
       "    </tr>\n",
       "    <tr>\n",
       "      <th>1996-04-01</th>\n",
       "      <td>97132</td>\n",
       "      <td>93110</td>\n",
       "      <td>Santa Barbara</td>\n",
       "      <td>CA</td>\n",
       "      <td>Santa Maria-Santa Barbara</td>\n",
       "      <td>Santa Barbara</td>\n",
       "      <td>6180</td>\n",
       "      <td>300000.0</td>\n",
       "    </tr>\n",
       "    <tr>\n",
       "      <th>1996-04-01</th>\n",
       "      <td>97131</td>\n",
       "      <td>93109</td>\n",
       "      <td>Santa Barbara</td>\n",
       "      <td>CA</td>\n",
       "      <td>Santa Maria-Santa Barbara</td>\n",
       "      <td>Santa Barbara</td>\n",
       "      <td>7577</td>\n",
       "      <td>NaN</td>\n",
       "    </tr>\n",
       "  </tbody>\n",
       "</table>\n",
       "</div>"
      ],
      "text/plain": [
       "            RegionID  RegionName           City State  \\\n",
       "date                                                    \n",
       "1996-04-01     97124       93101  Santa Barbara    CA   \n",
       "1996-04-01     97127       93105  Santa Barbara    CA   \n",
       "1996-04-01     97126       93103  Santa Barbara    CA   \n",
       "1996-04-01     97132       93110  Santa Barbara    CA   \n",
       "1996-04-01     97131       93109  Santa Barbara    CA   \n",
       "\n",
       "                                Metro     CountyName  SizeRank  listing_price  \n",
       "date                                                                           \n",
       "1996-04-01  Santa Maria-Santa Barbara  Santa Barbara      2738            NaN  \n",
       "1996-04-01  Santa Maria-Santa Barbara  Santa Barbara      3566       276150.0  \n",
       "1996-04-01  Santa Maria-Santa Barbara  Santa Barbara      5689            NaN  \n",
       "1996-04-01  Santa Maria-Santa Barbara  Santa Barbara      6180       300000.0  \n",
       "1996-04-01  Santa Maria-Santa Barbara  Santa Barbara      7577            NaN  "
      ]
     },
     "execution_count": 76,
     "metadata": {},
     "output_type": "execute_result"
    }
   ],
   "source": [
    "# Convert to wide format\n",
    "sold_sb_zip = pd.melt(sold_sb,id_vars=['RegionID','RegionName','City','State', 'Metro','CountyName','SizeRank'], var_name=\"date\", value_name=\"listing_price\")\n",
    "# Set the date as index\n",
    "sold_sb_zip.index = pd.to_datetime(sold_sb_zip.pop('date'))\n",
    "sold_sb_zip.head()"
   ]
  },
  {
   "cell_type": "code",
   "execution_count": 77,
   "metadata": {
    "collapsed": false
   },
   "outputs": [],
   "source": [
    "# Compute the average for the city\n",
    "sold_sb_ts = sold_sb_zip.groupby(level='date').mean()\n",
    "\n",
    "# some house cleaning\n",
    "sold_sb_ts.drop(sold_sb_ts.columns[[0,1,2]], axis=1, inplace=True)"
   ]
  },
  {
   "cell_type": "code",
   "execution_count": 78,
   "metadata": {
    "collapsed": false
   },
   "outputs": [
    {
     "data": {
      "text/plain": [
       "<matplotlib.axes._subplots.AxesSubplot at 0x7f326e9ebc18>"
      ]
     },
     "execution_count": 78,
     "metadata": {},
     "output_type": "execute_result"
    },
    {
     "data": {
      "image/png": "[encoded data removed]",
      "text/plain": [
       "<matplotlib.figure.Figure at 0x7f326eab4fd0>"
      ]
     },
     "metadata": {},
     "output_type": "display_data"
    }
   ],
   "source": [
    "# plot the time-series\n",
    "sold_sb_ts.plot(kind='line')"
   ]
  },
  {
   "cell_type": "code",
   "execution_count": 81,
   "metadata": {
    "collapsed": false
   },
   "outputs": [],
   "source": [
    "# Fill the NAs\n",
    "sold_sb_filled = sold_sb_ts.fillna(method='ffill')"
   ]
  },
  {
   "cell_type": "code",
   "execution_count": 82,
   "metadata": {
    "collapsed": false
   },
   "outputs": [
    {
     "data": {
      "text/plain": [
       "<matplotlib.axes._subplots.AxesSubplot at 0x7f326e874128>"
      ]
     },
     "execution_count": 82,
     "metadata": {},
     "output_type": "execute_result"
    },
    {
     "data": {
      "image/png": "[encoded data removed]",
      "text/plain": [
       "<matplotlib.figure.Figure at 0x7f326e963b38>"
      ]
     },
     "metadata": {},
     "output_type": "display_data"
    }
   ],
   "source": [
    "sold_sb_filled.plot(kind='line')"
   ]
  },
  {
   "cell_type": "code",
   "execution_count": 86,
   "metadata": {
    "collapsed": true
   },
   "outputs": [],
   "source": [
    "difference = sold_sb_filled - listing_sb_ts"
   ]
  },
  {
   "cell_type": "code",
   "execution_count": 87,
   "metadata": {
    "collapsed": false
   },
   "outputs": [
    {
     "data": {
      "text/plain": [
       "<matplotlib.axes._subplots.AxesSubplot at 0x7f326a92ae48>"
      ]
     },
     "execution_count": 87,
     "metadata": {},
     "output_type": "execute_result"
    },
    {
     "data": {
      "image/png": "[encoded data removed]",
      "text/plain": [
       "<matplotlib.figure.Figure at 0x7f326a8ceb70>"
      ]
     },
     "metadata": {},
     "output_type": "display_data"
    }
   ],
   "source": [
    "difference['2013':'2016'].plot(kind='line')"
   ]
  },
  {
   "cell_type": "code",
   "execution_count": null,
   "metadata": {
    "collapsed": true
   },
   "outputs": [],
   "source": []
  }
 ],
 "metadata": {
  "kernelspec": {
   "display_name": "Python 3",
   "language": "python",
   "name": "python3"
  }
 },
 "nbformat": 4,
 "nbformat_minor": 1
}
